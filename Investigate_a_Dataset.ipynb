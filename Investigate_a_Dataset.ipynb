{
 "cells": [
  {
   "cell_type": "markdown",
   "metadata": {},
   "source": [
    "\n",
    "\n",
    "# Project: Investigate a Dataset - [Medical Appointment No Shows]\n",
    "\n",
    "## Table of Contents\n",
    "<ul>\n",
    "<li><a href=\"#intro\">Introduction</a></li>\n",
    "<li><a href=\"#wrangling\">Data Wrangling</a></li>\n",
    "<li><a href=\"#eda\">Exploratory Data Analysis</a></li>\n",
    "<li><a href=\"#conclusions\">Conclusions</a></li>\n",
    "</ul>"
   ]
  },
  {
   "cell_type": "markdown",
   "metadata": {},
   "source": [
    "<a id='intro'></a>\n",
    "## Introduction\n",
    "\n",
    "### Dataset Description \n",
    "\n",
    "> This dataset includes information about over 100,000 medical appointments of different patients from different neighborhoods in Brazil, and this dataset discuss very important point that why a person makes a doctor appointment, receives all the instructions and no-show. so I will ask questions and answer it to reach the solution for this problem. \n",
    " \n",
    "**Note**: The columns that have (0 , 1) values (1 means True) (0 means False).\n",
    "\n",
    "### Question(s) for Analysis\n",
    "\n",
    "- 1- Is there a correlation between the dataset ?\n",
    "\n",
    "\n",
    "- 2- What is the ratio of Female to Male ?\n",
    "\n",
    "\n",
    "- 3- Does the gender affect showing up of the patient ? \n",
    "\n",
    "\n",
    "- 4- Does the gender with scholarship affect showing up of the patient ?\n",
    "\n",
    "\n",
    "- 5- Does the gender with hypertension affect showing up of the patient ?\n",
    "\n",
    "\n",
    "- 6- Does the gender with diabetes affect showing up of the patient ?\n",
    "\n",
    "\n",
    "- 7- Does the gender with alcoholism affect showing up of the patient ?\n",
    "\n",
    "\n",
    "- 8- Does the gender with handicap affect showing up of the patient ?\n",
    "\n",
    "\n",
    "- 9- Does receiving sms affect showing up in the appointment based on the gender ?\n",
    "\n",
    "\n",
    "- 10- What is the distribution of the age ?\n",
    "\n",
    "\n",
    "- 11- Does the age of the paitent affect showing up in the appointment day?\n",
    "\n",
    "\n",
    "- 12- which day of the week has the most precentage of showing up ?\n",
    "\n",
    "\n",
    "- 13- which day of the week has the most precentage of  no show up ?\n",
    "\n",
    " \n",
    "- 14- What is the ratio of the month according to showing up and don't show up ?\n",
    "\n",
    "\n",
    "- 15- Does waiting days affect showing up of the patient ?\n",
    "\n"
   ]
  },
  {
   "cell_type": "code",
   "execution_count": null,
   "metadata": {},
   "outputs": [],
   "source": [
    "# Use this cell to set up import statements for all of the packages that you\n",
    "#   plan to use.\n",
    "\n",
    "# Remember to include a 'magic word' so that your visualizations are plotted\n",
    "#   inline with the notebook. See this page for more:\n",
    "#   http://ipython.readthedocs.io/en/stable/interactive/magics.html\n",
    "\n",
    "import pandas as pd\n",
    "import numpy as np\n",
    "import matplotlib.pyplot as plt\n",
    "import seaborn as sns\n",
    "import plotly\n",
    "import plotly.express as px\n",
    "%matplotlib inline"
   ]
  },
  {
   "cell_type": "markdown",
   "metadata": {},
   "source": [
    "<a id='wrangling'></a>\n",
    "## Data Wrangling\n",
    "\n"
   ]
  },
  {
   "cell_type": "code",
   "execution_count": null,
   "metadata": {},
   "outputs": [],
   "source": [
    "# Load your data and print out a few lines. Perform operations to inspect data\n",
    "#   types and look for instances of missing or possibly errant data.\n",
    "df = pd.read_csv('noshowappointments-kagglev2-may-2016.csv')\n",
    "df.head()"
   ]
  },
  {
   "cell_type": "code",
   "execution_count": null,
   "metadata": {},
   "outputs": [],
   "source": [
    "df.info(verbose=True, show_counts=True)"
   ]
  },
  {
   "cell_type": "code",
   "execution_count": null,
   "metadata": {},
   "outputs": [],
   "source": [
    "df.shape"
   ]
  },
  {
   "cell_type": "code",
   "execution_count": null,
   "metadata": {},
   "outputs": [],
   "source": [
    "df.describe(include=['O'])"
   ]
  },
  {
   "cell_type": "code",
   "execution_count": null,
   "metadata": {},
   "outputs": [],
   "source": [
    "df.describe()"
   ]
  },
  {
   "cell_type": "markdown",
   "metadata": {},
   "source": [
    "\n",
    "### Data Cleaning\n",
    "\n",
    " "
   ]
  },
  {
   "cell_type": "code",
   "execution_count": null,
   "metadata": {},
   "outputs": [],
   "source": [
    "# make a copy of the dataframe to aviod any problem \n",
    "df_new = df.copy()"
   ]
  },
  {
   "cell_type": "code",
   "execution_count": null,
   "metadata": {},
   "outputs": [],
   "source": [
    "df_new.dtypes"
   ]
  },
  {
   "cell_type": "markdown",
   "metadata": {},
   "source": [
    "#### Columns'S type that need to be changed:\n",
    " 1- PatienID is float64 and it needs to convert to str because I dont want when I caluclate or use describe() fun to consider it as a numeric data\n",
    " \n",
    " 2- AppointmentID is int and I will convert it to str that is because the same reason of patientid\n",
    " \n",
    " 3- ScheduledDay and AppointmentDay need to convert to a datatime because I will use them to extract a month and a day form it. \n"
   ]
  },
  {
   "cell_type": "code",
   "execution_count": null,
   "metadata": {},
   "outputs": [],
   "source": [
    "# lets convert PatienID to str\n",
    "df_new['PatientId'] = df_new['PatientId'].astype(str)\n",
    "df_new['PatientId'].dtypes"
   ]
  },
  {
   "cell_type": "code",
   "execution_count": null,
   "metadata": {},
   "outputs": [],
   "source": [
    "# lets covert AppointmentID to str\n",
    "df_new['AppointmentID'] = df_new['AppointmentID'].astype(str)\n",
    "df_new['AppointmentID'].dtypes"
   ]
  },
  {
   "cell_type": "code",
   "execution_count": null,
   "metadata": {},
   "outputs": [],
   "source": [
    "# convert ScheduledDay and AppointmentDay to datatime\n",
    "df_new['ScheduledDay'] = pd.to_datetime(df_new['ScheduledDay'])\n",
    "df_new['AppointmentDay'] = pd.to_datetime(df_new['AppointmentDay'])\n",
    "df_new[['ScheduledDay','AppointmentDay']].dtypes"
   ]
  },
  {
   "cell_type": "code",
   "execution_count": null,
   "metadata": {},
   "outputs": [],
   "source": [
    "# see the new data type after converting \n",
    "df_new.dtypes"
   ]
  },
  {
   "cell_type": "markdown",
   "metadata": {},
   "source": [
    "### Renaming some columns"
   ]
  },
  {
   "cell_type": "code",
   "execution_count": null,
   "metadata": {},
   "outputs": [],
   "source": [
    "# first lets replace uppercase to lowercase \n",
    "df_new.rename(columns=lambda x: x.strip().lower(), inplace=True)"
   ]
  },
  {
   "cell_type": "code",
   "execution_count": null,
   "metadata": {},
   "outputs": [],
   "source": [
    "# second lets fix and put underscore in some columns\n",
    "rename_column = { 'patientid' : 'patient_id', 'appointmentid': 'appointment_id',\n",
    "                 'scheduledday' : 'scheduled_day', 'appointmentday':'appointment_day',\n",
    "                  'hipertension':'hypertension' ,'handcap':'handicap','no-show':'show'\n",
    "                 }\n",
    "df_new.rename(columns=rename_column,inplace=True)"
   ]
  },
  {
   "cell_type": "code",
   "execution_count": null,
   "metadata": {},
   "outputs": [],
   "source": [
    "df_new.head(3)"
   ]
  },
  {
   "cell_type": "markdown",
   "metadata": {},
   "source": [
    "#### Changing Show values:\n",
    "First No-show column before change it to show means 'No' if the patient showed up to their appointment, and 'Yes' if they did not show up.\n",
    "\n",
    "So after I changed the column to show I am going to change 'No' to 1 and 'Yes' to 0 to avoid any misunderstanding or misconception and to be like other columns (1 means True) and (0 means Flase).\n",
    "\n",
    "So all the dataset now (1 = True) and (0 = False)."
   ]
  },
  {
   "cell_type": "code",
   "execution_count": null,
   "metadata": {},
   "outputs": [],
   "source": [
    "# change the show column values\n",
    "df_new['show'].replace(['Yes', 'No'], [0,1],inplace=True)"
   ]
  },
  {
   "cell_type": "markdown",
   "metadata": {},
   "source": [
    "#### Changing the gender column values:\n",
    "from F and M to Female and Male"
   ]
  },
  {
   "cell_type": "code",
   "execution_count": null,
   "metadata": {},
   "outputs": [],
   "source": [
    "df_new['gender'].replace(['F','M'],['Female', 'Male'], inplace=True)"
   ]
  },
  {
   "cell_type": "markdown",
   "metadata": {},
   "source": [
    "#### Check for missing values"
   ]
  },
  {
   "cell_type": "code",
   "execution_count": null,
   "metadata": {},
   "outputs": [],
   "source": [
    "df_new.isnull().sum()"
   ]
  },
  {
   "cell_type": "raw",
   "metadata": {},
   "source": [
    "there is not any missing value"
   ]
  },
  {
   "cell_type": "markdown",
   "metadata": {},
   "source": [
    "#### Check for duplicate rows"
   ]
  },
  {
   "cell_type": "code",
   "execution_count": null,
   "metadata": {},
   "outputs": [],
   "source": [
    "df_new.duplicated().sum()"
   ]
  },
  {
   "cell_type": "markdown",
   "metadata": {},
   "source": [
    "There is not any duplicated value also"
   ]
  },
  {
   "cell_type": "markdown",
   "metadata": {},
   "source": [
    "<a id='eda'></a>\n",
    "\n",
    "## Exploratory Data Analysis\n",
    "\n",
    "\n"
   ]
  },
  {
   "cell_type": "markdown",
   "metadata": {},
   "source": [
    "### First: Lets see overall vis between show column and other features:"
   ]
  },
  {
   "cell_type": "code",
   "execution_count": null,
   "metadata": {},
   "outputs": [],
   "source": [
    "def get_bar_chart(df_new):\n",
    "    \n",
    "    feature = ['scholarship','hypertension', 'diabetes', 'alcoholism', 'handicap', 'sms_received'] # the columns I want to plot\n",
    "\n",
    "    \n",
    "    list(enumerate(feature))\n",
    "\n",
    "    \n",
    "    plt.figure(figsize=(25,10))\n",
    "    \n",
    "    for i in enumerate(feature):\n",
    "        plt.subplot(2, 3, i[0]+1)\n",
    "        sns.countplot(x=i[1], hue='show' ,data=df_new, palette = 'Blues')\n",
    "     \n",
    "    \n",
    "    plt.show()\n",
    "    \n",
    "get_bar_chart(df_new)    "
   ]
  },
  {
   "cell_type": "markdown",
   "metadata": {},
   "source": [
    "### Is there a correlation between the dataset ?\n"
   ]
  },
  {
   "cell_type": "code",
   "execution_count": null,
   "metadata": {},
   "outputs": [],
   "source": [
    "df_new.corr()"
   ]
  },
  {
   "cell_type": "code",
   "execution_count": null,
   "metadata": {},
   "outputs": [],
   "source": [
    "plt.figure(figsize=(10,5))\n",
    "sns.heatmap(df_new.corr(), annot=True,linewidth=2, cmap= 'PuBuGn')\n",
    "plt.title('Correlation between the dataset', fontsize=15)\n",
    "plt.show()"
   ]
  },
  {
   "cell_type": "markdown",
   "metadata": {},
   "source": [
    "**After the two steps here what I figured out:**\n",
    "\n",
    "**Hypertension and Diabetes** have moderate postive correlation(0.43).\n",
    "\n",
    "**Hypertension and age** have strong postive correlation(0.5).\n",
    "\n",
    "**Scholarship and show** have negative correlation(-0.02). This means don't have scholarship will increase the possibility of showing up.\n",
    "\n",
    "**Alcoholism and show** don't have any relationship(0.0002). This means it wouldn't affect showing up of the patient.\n",
    "\n",
    "**Sms_received and show** have strong negative correlation(-0.13). This means didn't receive sms will increase the possibility of showing up."
   ]
  },
  {
   "cell_type": "markdown",
   "metadata": {},
   "source": [
    "## What is the ratio of Female to Male ?"
   ]
  },
  {
   "cell_type": "code",
   "execution_count": null,
   "metadata": {},
   "outputs": [],
   "source": [
    "df_new.head()"
   ]
  },
  {
   "cell_type": "code",
   "execution_count": null,
   "metadata": {},
   "outputs": [],
   "source": [
    "night_colors = ['rgb(56, 75, 126)', 'rgb(18, 36, 37)']\n",
    "fig = px.pie(df_new['gender'].value_counts(),\n",
    "             values = 'gender',\n",
    "             names = ['Female', 'Male'],\n",
    "             color_discrete_sequence=px.colors.sequential.Darkmint\n",
    "            )\n",
    "\n",
    "fig.update_traces(text = df_new['gender'].value_counts(),\n",
    "                  textinfo = 'label+percent')\n",
    "\n",
    "fig.update_layout(title_text = \"Gender ratio\", title_x = 0.5)\n",
    "\n",
    "\n",
    "fig.show()"
   ]
  },
  {
   "cell_type": "markdown",
   "metadata": {},
   "source": [
    "## Does the gender affect showing up of the patient ?"
   ]
  },
  {
   "cell_type": "markdown",
   "metadata": {},
   "source": [
    "#### Lets first take a peek in the gender based on the count of show up or no show."
   ]
  },
  {
   "cell_type": "code",
   "execution_count": null,
   "metadata": {},
   "outputs": [],
   "source": [
    "df_new.groupby(['gender','show']).count()['patient_id']"
   ]
  },
  {
   "cell_type": "code",
   "execution_count": null,
   "metadata": {},
   "outputs": [],
   "source": [
    "plt.style.use('fivethirtyeight')\n",
    "\n",
    "plt.figure(figsize=(10,6), dpi=60)\n",
    "\n",
    "sns.countplot(data= df_new, x= 'gender', hue='show', palette= 'Blues')\n",
    "\n",
    "plt.title('Number of female and male according to show')\n",
    "plt.ylabel('Show and No-show patients count')\n",
    "plt.show()"
   ]
  },
  {
   "cell_type": "markdown",
   "metadata": {},
   "source": [
    "> This is just an overall count of the gender according to showing up in the appoinment day or not. but to know the answer if the gender affect showing up or not I need to calculate the precentage of both of them."
   ]
  },
  {
   "cell_type": "code",
   "execution_count": null,
   "metadata": {},
   "outputs": [],
   "source": [
    "# this just to get the count of gender and i use patient_id to help me count the number of female and male\n",
    "\n",
    "gender_count = df_new.groupby('gender').count()['patient_id']\n",
    "gender_count"
   ]
  },
  {
   "cell_type": "code",
   "execution_count": null,
   "metadata": {},
   "outputs": [],
   "source": [
    "# to get the the count of the female and male that show up and dont show up in the appointment day.\n",
    "\n",
    "gender_show = df_new[['gender','show']].value_counts()\n",
    "gender_show"
   ]
  },
  {
   "cell_type": "code",
   "execution_count": null,
   "metadata": {},
   "outputs": [],
   "source": [
    "female_ratio = (gender_show['Female']/gender_count['Female'])*100 # this to calculate with precenatage female that showed up and dont.\n",
    "\n",
    "label_names = ['Female showed up ', \"Female didn't show up\"]\n",
    "\n",
    "explode = [0, 0.15] # to explode the part that male did not show up\n",
    "\n",
    "colors = ['#4F6272', '#B7C3F3']\n",
    "\n",
    "plt.pie(female_ratio, radius=1.5, shadow=True ,labels = label_names, explode=explode,colors = colors ,startangle=180,\n",
    "        autopct='%0.2f%%',textprops = {\"fontsize\":15, \"fontname\":\"Comic Sans MS\"})\n",
    "\n",
    "plt.title(\"Ratio of female who showed up and who didn't show up \",fontsize=20, y=1.2, fontname='Comic Sans MS') \n",
    "\n",
    "plt.show()\n"
   ]
  },
  {
   "cell_type": "code",
   "execution_count": null,
   "metadata": {},
   "outputs": [],
   "source": [
    "male_ratio = (gender_show['Male']/gender_count['Male'])*100 # this to calculate with precenatage male that showed up and dont.\n",
    "\n",
    "label_names = ['Male showed up ', \"Male didn't show up\"]\n",
    "\n",
    "explode = [0, 0.15] # to explode the part that male did not show up\n",
    "\n",
    "colors = ['#4F6272', '#B7C3F3']\n",
    "\n",
    "plt.pie(male_ratio, radius=1.5, shadow=True ,labels = label_names, explode=explode,colors=colors, startangle=180,\n",
    "        autopct='%0.2f%%',textprops = {\"fontsize\":15,\"fontname\":\"Comic Sans MS\" })\n",
    "\n",
    "plt.title(\"Ratio of male who showed up and who didn't show up \",fontsize=20, y=1.2, fontname='Comic Sans MS') \n",
    "\n",
    "plt.show()"
   ]
  },
  {
   "cell_type": "markdown",
   "metadata": {},
   "source": [
    "> **The gender does not affect showing up of the patient**, because the female and male almost equal whether showing up or not."
   ]
  },
  {
   "cell_type": "markdown",
   "metadata": {},
   "source": [
    "## Does the gender with scholarship affect showing up of the patient ?"
   ]
  },
  {
   "cell_type": "code",
   "execution_count": null,
   "metadata": {},
   "outputs": [],
   "source": [
    "df_new.groupby(['gender', 'scholarship', 'show']).count()['patient_id']"
   ]
  },
  {
   "cell_type": "code",
   "execution_count": null,
   "metadata": {},
   "outputs": [],
   "source": [
    "genderr= df_new['gender'].replace(['Female', 'Male'], [1,0])# convert gender column to numeric values to know the relationship\n",
    "                                                       # between scholarship and showing up to the appointment.\n",
    "\n",
    "show = df_new['show']*100 # to get the precentage of show column \n",
    "\n",
    "\n",
    "plt.figure(figsize=(12,6),dpi=60)\n",
    "sns.barplot(x=genderr, y=show, hue='scholarship', palette= 'Blues',data=df_new)\n",
    "plt.xticks([0,1],['Male', 'Female'])\n",
    "plt.ylabel('Percentage of Showing up')\n",
    "plt.title('Show up of the patient based on the gender and the scholarship')\n",
    "\n",
    "plt.show()"
   ]
  },
  {
   "cell_type": "markdown",
   "metadata": {},
   "source": [
    ">**Yes, the gender with scholarship affect showing up of the patient**. Becuase there is a negative correlation between scholarship and showing up. Here when the people whether male or female dont have scholarship the possibility of thier appearance or showing up increase."
   ]
  },
  {
   "cell_type": "markdown",
   "metadata": {},
   "source": [
    "## Does the gender with hypertension affect showing up of the patient ?"
   ]
  },
  {
   "cell_type": "code",
   "execution_count": null,
   "metadata": {},
   "outputs": [],
   "source": [
    "df_new.groupby(['gender', 'hypertension', 'show']).count()['patient_id']"
   ]
  },
  {
   "cell_type": "code",
   "execution_count": null,
   "metadata": {},
   "outputs": [],
   "source": [
    "plt.figure(figsize=(10,6),dpi=60)\n",
    "\n",
    "sns.barplot(x=genderr, y=show, hue='hypertension',palette = 'Blues',data=df_new)\n",
    "\n",
    "plt.xticks([0,1],['Male', 'Female'])\n",
    "plt.ylabel('Percentage of Showing up')\n",
    "plt.title('Show up of the patient based on the gender and the hypertension')\n",
    "\n",
    "plt.show()"
   ]
  },
  {
   "cell_type": "markdown",
   "metadata": {},
   "source": [
    ">**Yes, the gender with hypertension affect showing up of the patient**. Beacause\n",
    "there is a relationship or a positive correlation bewteen having hypertension and showing up. Like here I see both gender who have hypertension showing up in the appointment day more than the other who dont have hypertension."
   ]
  },
  {
   "cell_type": "markdown",
   "metadata": {},
   "source": [
    "## Does the gender with diabetes affect showing up of the patient ?"
   ]
  },
  {
   "cell_type": "code",
   "execution_count": null,
   "metadata": {},
   "outputs": [],
   "source": [
    "df_new.groupby(['gender', 'diabetes', 'show']).count()['patient_id']"
   ]
  },
  {
   "cell_type": "code",
   "execution_count": null,
   "metadata": {},
   "outputs": [],
   "source": [
    "plt.figure(figsize=(12,6),dpi=60)\n",
    "\n",
    "sns.barplot(x=genderr, y=show, hue='diabetes', palette = 'Blues', data=df_new)\n",
    "\n",
    "plt.xticks([0,1],['Male', 'Female'])\n",
    "plt.ylabel('Percentage of Showing up')\n",
    "plt.title('Show up of the patient based on the gender and the diabetes')\n",
    "\n",
    "plt.show()"
   ]
  },
  {
   "cell_type": "markdown",
   "metadata": {},
   "source": [
    ">**Yes, the gender with diabetes affect showing up of the patient**. Beacause\n",
    "there is a relationship or a positive correlation bewteen having diabetes and showing up. Like here I see both gender who have diabetes showing up in the appointment day more than the other who dont have diabetes. Same as hypertension.."
   ]
  },
  {
   "cell_type": "markdown",
   "metadata": {},
   "source": [
    "## Does the gender with alcoholism affect showing up of the patient ?"
   ]
  },
  {
   "cell_type": "code",
   "execution_count": null,
   "metadata": {},
   "outputs": [],
   "source": [
    "df_new.groupby(['gender', 'alcoholism', 'show']).count()['patient_id']"
   ]
  },
  {
   "cell_type": "code",
   "execution_count": null,
   "metadata": {},
   "outputs": [],
   "source": [
    "plt.figure(figsize=(10,6),dpi=60)\n",
    "\n",
    "sns.barplot(x=genderr, y=show, hue='alcoholism', palette = 'Blues', data=df_new)\n",
    "\n",
    "plt.xticks([0,1],['Male', 'Female'])\n",
    "plt.ylabel('Percentage of Showing up')\n",
    "plt.title('Show up of the patient based on the gender and the alcoholism')\n",
    "\n",
    "plt.show()"
   ]
  },
  {
   "cell_type": "markdown",
   "metadata": {},
   "source": [
    "> **The alcoholism doesn't affect the showing up of the patient** , and there isn't a strong relationship between alcoholism and showing up of the patient because: \n",
    "\n",
    ">Male: the ones who drink show up in the appointment day more than the ones who don't drink.\n",
    "\n",
    ">Female: is quite the opposit of male, the ones who don't drink show up in the appointment day more than the ones who actually drink."
   ]
  },
  {
   "cell_type": "code",
   "execution_count": null,
   "metadata": {},
   "outputs": [],
   "source": [
    "df_new.head()"
   ]
  },
  {
   "cell_type": "markdown",
   "metadata": {},
   "source": [
    "## Does the gender with handicap affect showing up of the patient ?"
   ]
  },
  {
   "cell_type": "code",
   "execution_count": null,
   "metadata": {},
   "outputs": [],
   "source": [
    "# To know the unuque values of the handicap column\n",
    "df_new['handicap'].unique()"
   ]
  },
  {
   "cell_type": "code",
   "execution_count": null,
   "metadata": {},
   "outputs": [],
   "source": [
    "# To know the value counts of the handicap column\n",
    "df_new['handicap'].value_counts()"
   ]
  },
  {
   "cell_type": "markdown",
   "metadata": {},
   "source": [
    "##### Here I have a problem to visulaize it with other variables. 0 means not handicapped, [1,2,3,4] means the person is handicapped.  So I am going to convert [1,2,3,4] to 1."
   ]
  },
  {
   "cell_type": "code",
   "execution_count": null,
   "metadata": {},
   "outputs": [],
   "source": [
    "df_new['handicap'].replace({0:0, 1:1, 2:1, 3:1, 4:1}, inplace=True)"
   ]
  },
  {
   "cell_type": "code",
   "execution_count": null,
   "metadata": {},
   "outputs": [],
   "source": [
    "df_new['handicap'].value_counts()"
   ]
  },
  {
   "cell_type": "code",
   "execution_count": null,
   "metadata": {},
   "outputs": [],
   "source": [
    "plt.figure(figsize=(14,6),dpi=60)\n",
    "\n",
    "sns.barplot(x=genderr, y=show, hue='handicap', palette = 'Blues', data=df_new)\n",
    "\n",
    "plt.xticks([0,1],['Male', 'Female'])\n",
    "plt.ylabel('Percentage of Showing up')\n",
    "plt.title('Show up of the patient based on the gender and handicap')\n",
    "\n",
    "plt.show()"
   ]
  },
  {
   "cell_type": "markdown",
   "metadata": {},
   "source": [
    ">**Yes, the gender with handicap affect showing up of the patient**. Beacause\n",
    "there is a positive correlation bewteen being handicapped and showing up. Like here I see both gender who is handicapped showing up in the appointment day more than the other who isn't handicapped."
   ]
  },
  {
   "cell_type": "markdown",
   "metadata": {},
   "source": [
    "## Does receiving sms affect showing up in the appointment based on the gender ?"
   ]
  },
  {
   "cell_type": "code",
   "execution_count": null,
   "metadata": {
    "scrolled": true
   },
   "outputs": [],
   "source": [
    "df_new['sms_received'].value_counts()"
   ]
  },
  {
   "cell_type": "code",
   "execution_count": null,
   "metadata": {},
   "outputs": [],
   "source": [
    "df_new.groupby(['gender', 'sms_received', 'show']).count()['patient_id']"
   ]
  },
  {
   "cell_type": "code",
   "execution_count": null,
   "metadata": {},
   "outputs": [],
   "source": [
    "plt.figure(figsize=(16,6),dpi=60)\n",
    "\n",
    "sns.barplot(x=genderr, y=show, hue='sms_received', palette = 'Blues', data=df_new)\n",
    "\n",
    "plt.xticks([0,1],['Male', 'Female'])\n",
    "plt.ylabel('Percentage of Showing up')\n",
    "plt.title('Show up of the patient based on the gender and handicap')\n",
    "\n",
    "plt.show()"
   ]
  },
  {
   "cell_type": "markdown",
   "metadata": {},
   "source": [
    ">**No, there isn't any relationship between receiving sms and showing up in the appointment based on the gender**. Beacause\n",
    "both gender who didn't receive sms showing up in the appointment more than the ones who received sms. So receiving sms or not has nothing to do with showing up It isn't the problem for not showing up."
   ]
  },
  {
   "cell_type": "code",
   "execution_count": null,
   "metadata": {},
   "outputs": [],
   "source": [
    "df_new.head()"
   ]
  },
  {
   "cell_type": "markdown",
   "metadata": {},
   "source": [
    "## What is the distribution of the age ?"
   ]
  },
  {
   "cell_type": "code",
   "execution_count": null,
   "metadata": {},
   "outputs": [],
   "source": [
    "df_new['age'].unique()"
   ]
  },
  {
   "cell_type": "code",
   "execution_count": null,
   "metadata": {},
   "outputs": [],
   "source": [
    "df_new['age'].value_counts()"
   ]
  },
  {
   "cell_type": "code",
   "execution_count": null,
   "metadata": {},
   "outputs": [],
   "source": [
    "df_new['age'].describe()"
   ]
  },
  {
   "cell_type": "code",
   "execution_count": null,
   "metadata": {},
   "outputs": [],
   "source": [
    "df_new['age'].mode()"
   ]
  },
  {
   "cell_type": "code",
   "execution_count": null,
   "metadata": {},
   "outputs": [],
   "source": [
    "df_new.query('age == -1')"
   ]
  },
  {
   "cell_type": "code",
   "execution_count": null,
   "metadata": {},
   "outputs": [],
   "source": [
    "# delete the -1 age from the dataset\n",
    "df_new.drop(df.index[99832], inplace=True)"
   ]
  },
  {
   "cell_type": "code",
   "execution_count": null,
   "metadata": {},
   "outputs": [],
   "source": [
    "# know the count of the people with age 0\n",
    "df_new.query('age == 0')['age'].count()"
   ]
  },
  {
   "cell_type": "markdown",
   "metadata": {},
   "source": [
    "**some analysis in the age column:**\n",
    "\n",
    "min: -1 it is just one row, and it doesn't make sense so i dropped it.\n",
    "\n",
    "max: 115 its weird but it can happen so I will leave it the same.\n",
    "\n",
    "mode: is zero its (3539) values maybe zero means babies didn't birth yet, but it doesn't make any sense so I am going to convert it to nan."
   ]
  },
  {
   "cell_type": "code",
   "execution_count": null,
   "metadata": {},
   "outputs": [],
   "source": [
    "#convert the zero values into nan values.\n",
    "agee = df_new['age'].replace(0,np.nan)"
   ]
  },
  {
   "cell_type": "code",
   "execution_count": null,
   "metadata": {},
   "outputs": [],
   "source": [
    "fig = px.box(df_new,agee, labels=dict(x = 'Age'))\n",
    "\n",
    "fig.update_layout(title_text = 'The distribution of the age', title_x = 0.5)\n",
    "\n",
    "\n",
    "fig.show()"
   ]
  },
  {
   "cell_type": "code",
   "execution_count": null,
   "metadata": {},
   "outputs": [],
   "source": [
    "df_new.query('age == 115')"
   ]
  },
  {
   "cell_type": "markdown",
   "metadata": {},
   "source": [
    "> There are **outliers** at the age of 115 five people."
   ]
  },
  {
   "cell_type": "markdown",
   "metadata": {},
   "source": [
    "## Does the age of the paitent affect showing up in the appointment day?"
   ]
  },
  {
   "cell_type": "code",
   "execution_count": null,
   "metadata": {},
   "outputs": [],
   "source": [
    "# lets first add age range column to group the age so that we can visulaize it easily.\n",
    "\n",
    "ages = agee\n",
    "bins = [1,18, 40,115]\n",
    "labels = [ '1-17','18-39', '40-115']\n",
    "df_new['age_range'] = pd.cut(agee, bins, labels = labels,include_lowest = True)"
   ]
  },
  {
   "cell_type": "code",
   "execution_count": null,
   "metadata": {},
   "outputs": [],
   "source": [
    "plt.figure(figsize=(10,6),dpi=60)\n",
    "\n",
    "sns.countplot(x='age_range', hue='show',palette= 'crest',data= df_new)\n",
    "\n",
    "plt.ylabel('Count of show',fontsize=15)\n",
    "plt.xlabel('Age range',fontsize=15)\n",
    "plt.title('Show up of the patient based on the age range',fontsize=15)\n",
    "\n",
    "plt.show()"
   ]
  },
  {
   "cell_type": "markdown",
   "metadata": {},
   "source": [
    ">**Yes, the age of the patient affect showing up in the appointment day**. So there is a postive correlation between the age and showing up . Here when the people getting older the possibility of showing up in the appointment day increase ."
   ]
  },
  {
   "cell_type": "code",
   "execution_count": null,
   "metadata": {},
   "outputs": [],
   "source": [
    "df_new.head()"
   ]
  },
  {
   "cell_type": "markdown",
   "metadata": {},
   "source": [
    "### which days the people choose most for the appointments ?"
   ]
  },
  {
   "cell_type": "code",
   "execution_count": null,
   "metadata": {},
   "outputs": [],
   "source": [
    "# first lets convert scheduled_day and appointment_day to date\n",
    "df_new['scheduled_day'] = pd.to_datetime(df_new['scheduled_day']).dt.date\n",
    "df_new['appointment_day'] = pd.to_datetime(df_new['appointment_day']).dt.date\n",
    "\n",
    "# after that lets add the day name of the appointment\n",
    "df_new['day_of_appointment'] = pd.to_datetime(df_new['appointment_day']).dt.day_name()\n",
    "df_new.head()"
   ]
  },
  {
   "cell_type": "code",
   "execution_count": null,
   "metadata": {},
   "outputs": [],
   "source": [
    "# checking that scheduled day is before appointment day\n",
    "\n",
    "check = df_new[df_new['scheduled_day'] > df_new['appointment_day']][['scheduled_day','appointment_day']]\n",
    "check"
   ]
  },
  {
   "cell_type": "markdown",
   "metadata": {},
   "source": [
    "My doubts are true there are five rows that the appointment day is before the scheduled day and this doesn't make any sense so I will drop them."
   ]
  },
  {
   "cell_type": "code",
   "execution_count": null,
   "metadata": {},
   "outputs": [],
   "source": [
    "df_new.drop(df_new.index[[27033,55226,64175,71533,72362]], inplace=True)"
   ]
  },
  {
   "cell_type": "code",
   "execution_count": null,
   "metadata": {},
   "outputs": [],
   "source": [
    "plt.figure(figsize=(12,5))\n",
    "\n",
    "sns.countplot(x='day_of_appointment', data=df_new, palette = 'crest')\n",
    "\n",
    "plt.title('Days of the appointment',fontsize=15)\n",
    "plt.xlabel('Day of the week',fontsize=15)\n",
    "plt.ylabel('count of the appointments',fontsize=15)\n",
    "\n",
    "plt.show()"
   ]
  },
  {
   "cell_type": "markdown",
   "metadata": {},
   "source": [
    " The days of the appointment that is full **from monday to friday**.\n",
    "\n",
    " The most day the people chose to go to the appointment is **wednesday**. \n",
    "\n",
    " **Sunday** has no appointments.\n",
    "\n",
    " **saturday** is the least day of appointments."
   ]
  },
  {
   "cell_type": "markdown",
   "metadata": {},
   "source": [
    "### which day of the week has the most precentage of showing up ?"
   ]
  },
  {
   "cell_type": "code",
   "execution_count": null,
   "metadata": {},
   "outputs": [],
   "source": [
    "# the count of each day of appointment\n",
    "day_count = df_new.groupby('day_of_appointment')['show'].count()\n",
    "day_count"
   ]
  },
  {
   "cell_type": "code",
   "execution_count": null,
   "metadata": {},
   "outputs": [],
   "source": [
    "# the number of people who show up in the appointment day\n",
    "show_count = df_new.groupby('day_of_appointment')['show'].sum()\n",
    "show_count"
   ]
  },
  {
   "cell_type": "code",
   "execution_count": null,
   "metadata": {},
   "outputs": [],
   "source": [
    "# the precentage of each day poeple show up in the appointment day\n",
    "show_prop = df_new.groupby('day_of_appointment')['show'].mean()\n",
    "show_prop"
   ]
  },
  {
   "cell_type": "code",
   "execution_count": null,
   "metadata": {},
   "outputs": [],
   "source": [
    "fig = px.pie(df_new,\n",
    "            values= show_prop,\n",
    "            names = ['Friday', 'Monday', 'Saturday', 'Thursday', 'Tuesday', 'Wednesday'],\n",
    "            color_discrete_sequence=px.colors.sequential.Emrld\n",
    "            )\n",
    "\n",
    "fig.update_traces(textinfo = 'label+percent')\n",
    "\n",
    "fig.update_layout(title_text = 'Percentage the day of the week according to show up ', title_x = 0.5)\n",
    "\n",
    "fig.show()"
   ]
  },
  {
   "cell_type": "markdown",
   "metadata": {},
   "source": [
    "> **Thursday** has the most precentage of showing up and **Wednesday** the second day of showing up.\n",
    "\n"
   ]
  },
  {
   "cell_type": "markdown",
   "metadata": {},
   "source": [
    "### which day of the week has the most precentage of  no show up ?"
   ]
  },
  {
   "cell_type": "code",
   "execution_count": null,
   "metadata": {},
   "outputs": [],
   "source": [
    "# the numbers of the people who don't show up in the appointment days \n",
    "no_show_count = day_count -show_count\n",
    "no_show_count"
   ]
  },
  {
   "cell_type": "code",
   "execution_count": null,
   "metadata": {},
   "outputs": [],
   "source": [
    "# The precentage of each day people didn't show up in the appointment day\n",
    "no_show_prop = 1- show_prop\n",
    "no_show_prop"
   ]
  },
  {
   "cell_type": "code",
   "execution_count": null,
   "metadata": {},
   "outputs": [],
   "source": [
    "fig = px.pie(df_new,\n",
    "            values= no_show_prop,\n",
    "            names = ['Friday', 'Monday', 'Saturday', 'Thursday', 'Tuesday', 'Wednesday'],\n",
    "            color_discrete_sequence=px.colors.sequential.Emrld\n",
    "            )\n",
    "\n",
    "fig.update_traces(textinfo = 'label+percent')\n",
    "\n",
    "fig.update_layout(title_text = \"Percentage the day of the week according to no show up \", title_x = 0.5)\n",
    "\n",
    "fig.show()"
   ]
  },
  {
   "cell_type": "markdown",
   "metadata": {},
   "source": [
    "> **Saturday** is the most day people didn't show up in the appointment day and then **friday**."
   ]
  },
  {
   "cell_type": "markdown",
   "metadata": {},
   "source": [
    "### What is the ratio of the month according to showing up and don't show up ?\n"
   ]
  },
  {
   "cell_type": "code",
   "execution_count": null,
   "metadata": {},
   "outputs": [],
   "source": [
    "df_new['appointment_month'] = pd.to_datetime(df_new['appointment_day']).dt.month_name()\n",
    "df_new.head()"
   ]
  },
  {
   "cell_type": "code",
   "execution_count": null,
   "metadata": {},
   "outputs": [],
   "source": [
    "df_new['appointment_month'].unique()"
   ]
  },
  {
   "cell_type": "code",
   "execution_count": null,
   "metadata": {},
   "outputs": [],
   "source": [
    "df_new['appointment_month'].value_counts()"
   ]
  },
  {
   "cell_type": "code",
   "execution_count": null,
   "metadata": {},
   "outputs": [],
   "source": [
    "# the count of the month \n",
    "month_count = df_new.groupby('appointment_month')['show'].count()\n",
    "month_count"
   ]
  },
  {
   "cell_type": "code",
   "execution_count": null,
   "metadata": {},
   "outputs": [],
   "source": [
    "# the number of the people who show up in these months\n",
    "month_show = df_new.groupby('appointment_month')['show'].sum()\n",
    "month_show"
   ]
  },
  {
   "cell_type": "code",
   "execution_count": null,
   "metadata": {},
   "outputs": [],
   "source": [
    "# the precentage of each month people show up in the appointment day\n",
    "show_month_prop = df_new.groupby('appointment_month')['show'].mean()\n",
    "show_month_prop"
   ]
  },
  {
   "cell_type": "code",
   "execution_count": null,
   "metadata": {},
   "outputs": [],
   "source": [
    "fig = px.pie(df_new,\n",
    "            values= show_month_prop,\n",
    "            names = ['April','June','May'],\n",
    "            color_discrete_sequence=px.colors.sequential.Darkmint\n",
    "            )\n",
    "\n",
    "fig.update_traces(textinfo = 'label+percent')\n",
    "\n",
    "fig.update_layout(title_text = 'Month of the appointment and show up ', title_x = 0.5)\n",
    "\n",
    "fig.show()"
   ]
  },
  {
   "cell_type": "markdown",
   "metadata": {},
   "source": [
    "> The ratio of three month according to show up almost the same, and we cant say the most month people show up in because there is a huge difference between the three months in  values. **May** is 64037, **June** is 21568, and **April** is 2602."
   ]
  },
  {
   "cell_type": "code",
   "execution_count": null,
   "metadata": {},
   "outputs": [],
   "source": [
    "# the number of the people who didn't show up in these months\n",
    "month_no_show = month_count - month_show\n",
    "month_no_show"
   ]
  },
  {
   "cell_type": "code",
   "execution_count": null,
   "metadata": {},
   "outputs": [],
   "source": [
    "# the precentage of each month people didn't show up in the appointment day\n",
    "no_show_month_prop = 1- show_month_prop\n",
    "no_show_month_prop"
   ]
  },
  {
   "cell_type": "code",
   "execution_count": null,
   "metadata": {},
   "outputs": [],
   "source": [
    "fig = px.pie(df_new,\n",
    "            values= no_show_month_prop,\n",
    "            names = ['April','June','May'],\n",
    "            color_discrete_sequence=px.colors.sequential.Darkmint\n",
    "            )\n",
    "\n",
    "fig.update_traces( textinfo = 'label+percent')\n",
    "\n",
    "fig.update_layout(title_text = \"Month of the appointment and don't show up \", title_x = 0.5)\n",
    "\n",
    "fig.show()"
   ]
  },
  {
   "cell_type": "markdown",
   "metadata": {},
   "source": [
    "> we cant say the highest and the lowest ratio because there is a huge difference between the values of the three months. **may** is 16799, **June** is 4882 and **April** is 633.\n"
   ]
  },
  {
   "cell_type": "markdown",
   "metadata": {},
   "source": [
    "### Does waiting days affect showing up of the patient ?"
   ]
  },
  {
   "cell_type": "code",
   "execution_count": null,
   "metadata": {},
   "outputs": [],
   "source": [
    "df_new['waiting_days'] = df_new['appointment_day'] - df_new['scheduled_day']"
   ]
  },
  {
   "cell_type": "code",
   "execution_count": null,
   "metadata": {},
   "outputs": [],
   "source": [
    "df_new.head()"
   ]
  },
  {
   "cell_type": "code",
   "execution_count": null,
   "metadata": {},
   "outputs": [],
   "source": [
    "# lets get red of days word\n",
    "df_new['waiting_days'] = df_new['waiting_days'].astype('str') # to be able to use split\n",
    "df_new['waiting_days'] = df_new['waiting_days'].apply(lambda x: x.split()[0])\n",
    "df_new['waiting_days'] = df_new['waiting_days'].astype('int')\n",
    "df_new.head()"
   ]
  },
  {
   "cell_type": "code",
   "execution_count": null,
   "metadata": {},
   "outputs": [],
   "source": [
    "df_new['waiting_days'].unique()"
   ]
  },
  {
   "cell_type": "code",
   "execution_count": null,
   "metadata": {},
   "outputs": [],
   "source": [
    "days = df_new['waiting_days']\n",
    "bins= [-1,21,46,65,85,105,125,142,160,179]\n",
    "labels = ['0-20', '21-45', '46-64', '65-84', '85-104', '105-124', '125-141','142-159', '160-179']\n",
    "df_new['days_range']= pd.cut(days, bins, labels = labels,include_lowest = True)\n",
    "df_new.head()"
   ]
  },
  {
   "cell_type": "code",
   "execution_count": null,
   "metadata": {},
   "outputs": [],
   "source": [
    "# graph the count of the waiting days\n",
    "plt.figure(figsize=(12,5))\n",
    "\n",
    "sns.countplot(x='days_range', data=df_new, palette= 'crest')\n",
    "\n",
    "plt.title('Waiting days between scheduled days and appointment days',fontsize=15)\n",
    "plt.xlabel('Delay in days', fontsize=15)\n",
    "plt.ylabel('Count of the waiting days',fontsize=15)\n",
    "\n",
    "plt.show()"
   ]
  },
  {
   "cell_type": "code",
   "execution_count": null,
   "metadata": {},
   "outputs": [],
   "source": [
    "# graph the waiting days according to showing up or not\n",
    "plt.figure(figsize=(12,5))\n",
    "sns.barplot(x='days_range', y='show',data=df_new, palette='crest')\n",
    "plt.title('Showing up or not based on waiting days',fontsize=15)\n",
    "plt.ylabel('Percent of show',fontsize=15)\n",
    "plt.xlabel('Delay in days ')\n",
    "plt.show()"
   ]
  },
  {
   "cell_type": "markdown",
   "metadata": {},
   "source": [
    "> The waiting days **doesn't affect** showing up of the patient."
   ]
  },
  {
   "cell_type": "markdown",
   "metadata": {},
   "source": [
    "<a id='conclusions'></a>\n",
    "## Conclusions\n",
    "\n",
    "\n",
    "- Gender doesn't affect showing up becuase the ratio from female to male are almost the same.\n",
    "\n",
    "\n",
    "- Scholarship affect showing up of the patient wether female or male , the people who don't have scholarship show up more than the ones who already have, its a negative corrlation. \n",
    "\n",
    "\n",
    "- Hypertension and diabetes are strong features that affect showing up of the patient.\n",
    "\n",
    "\n",
    "- There is no relation between alcoholism and showing up.\n",
    "\n",
    "\n",
    "- Handicapped patients tend to show up more than non-handicapped.\n",
    "\n",
    "\n",
    "- Receiving-sms doesn't affect showing up, its quiet the opposite the people who didn't receive sms tend to show up more than the ones who already received sms.\n",
    "\n",
    "\n",
    "- Age of the patient affect showing up , and the possibility of showing up increase when the people getting older.\n",
    "\n",
    "\n",
    "- There is not a specific day or month that has preference than the otherو they are all the same when it comes to show up.\n",
    "\n",
    "\n",
    "- Waiting days have no affect on showing up of the apatient.\n",
    "\n",
    "\n",
    "\n",
    "\n",
    "\n",
    "### Limitations\n",
    "\n",
    "- Handicap column has five different values(0,1,2,3,4) after alot of research I figured out that 1 to 4 is handicapped with difference precentage of the handicap, so I converted (1,2,3,4) to 1 that means handicap and 0 not handicapped.\n",
    "\n",
    "\n",
    "- Age column has large number of 0 values and it doesn't make sense according to the project.\n",
    "\n",
    "\n",
    "- The data just has three months ( April, May, June)\n",
    "\n",
    "\n",
    "- Most of the variables are categorical, which doesn't allow for a high level of statistical method.\n",
    "\n"
   ]
  },
  {
   "cell_type": "code",
   "execution_count": null,
   "metadata": {},
   "outputs": [],
   "source": [
    "from subprocess import call\n",
    "call(['python', '-m', 'nbconvert', 'Investigate_a_Dataset.ipynb'])"
   ]
  }
 ],
 "metadata": {
  "kernelspec": {
   "display_name": "Python 3",
   "language": "python",
   "name": "python3"
  },
  "language_info": {
   "codemirror_mode": {
    "name": "ipython",
    "version": 3
   },
   "file_extension": ".py",
   "mimetype": "text/x-python",
   "name": "python",
   "nbconvert_exporter": "python",
   "pygments_lexer": "ipython3",
   "version": "3.8.8"
  }
 },
 "nbformat": 4,
 "nbformat_minor": 2
}
